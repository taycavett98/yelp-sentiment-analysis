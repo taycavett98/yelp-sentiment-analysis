{
 "cells": [
  {
   "cell_type": "code",
   "execution_count": null,
   "metadata": {},
   "outputs": [],
   "source": [
    "import sys\n",
    "!{sys.executable} -m pip install pandas\n",
    "!{sys.executable} -m pip install seaborn\n",
    "!{sys.executable} -m pip install nltk\n",
    "!{sys.executable} -m pip install scikit-learn\n",
    "!{sys.executable} -m pip install imblearn"
   ]
  },
  {
   "cell_type": "code",
   "execution_count": 1,
   "metadata": {},
   "outputs": [],
   "source": [
    "import pandas as pd\n",
    "import numpy as np\n",
    "import matplotlib.pyplot as plt\n",
    "import seaborn as sns\n",
    "#plt.sytle.use('ggplot')\n",
    "\n",
    "# read in data\n",
    "train_data = pd.read_csv('train.csv')\n",
    "test_data = pd.read_csv('test.csv')\n"
   ]
  },
  {
   "cell_type": "code",
   "execution_count": 2,
   "metadata": {},
   "outputs": [
    {
     "name": "stdout",
     "output_type": "stream",
     "text": [
      "   Unnamed: 0  label                                               text\n",
      "0           0      4  dr. goldberg offers everything i look for in a...\n",
      "1           1      1  Unfortunately, the frustration of being Dr. Go...\n",
      "2           2      3  Been going to Dr. Goldberg for over 10 years. ...\n",
      "3           3      3  Got a letter in the mail last week that said D...\n",
      "4           4      0  I don't know what Dr. Goldberg was like before...\n",
      "(650000, 3)\n",
      "label\n",
      "4    130000\n",
      "1    130000\n",
      "3    130000\n",
      "0    130000\n",
      "2    130000\n",
      "Name: count, dtype: int64\n"
     ]
    }
   ],
   "source": [
    "# explore data\n",
    "print(train_data.head())\n",
    "print(train_data.shape)\n",
    "print(train_data['label'].value_counts())"
   ]
  },
  {
   "cell_type": "markdown",
   "metadata": {},
   "source": [
    "### Labeled Review Chart\n",
    " The chart below shows uniform distribution of sentiment analysis and class balance, showing that the model will not be more biased towared more common classes."
   ]
  },
  {
   "cell_type": "code",
   "execution_count": 3,
   "metadata": {},
   "outputs": [
    {
     "data": {
      "image/png": "[encoded data removed]",
      "text/plain": [
       "<Figure size 1000x500 with 1 Axes>"
      ]
     },
     "metadata": {},
     "output_type": "display_data"
    }
   ],
   "source": [
    "# Quick EDA\n",
    "ax = train_data['label'].value_counts().sort_index().plot(kind='bar', title=\"Count of Labeled Reviews\", figsize=(10, 5))\n",
    "ax.set_xlabel(\"Labeled Reviews\")\n",
    "plt.show()"
   ]
  },
  {
   "cell_type": "code",
   "execution_count": 4,
   "metadata": {},
   "outputs": [
    {
     "name": "stderr",
     "output_type": "stream",
     "text": [
      "[nltk_data] Downloading package stopwords to /Users/tay/nltk_data...\n",
      "[nltk_data]   Package stopwords is already up-to-date!\n"
     ]
    }
   ],
   "source": [
    "import re\n",
    "import nltk\n",
    "from nltk.corpus import stopwords\n",
    "nltk.download('stopwords')\n",
    "stop_words = stopwords.words('english')\n",
    "\n",
    "def preprocess_text_1(text):\n",
    "    '''\n",
    "    this function removes punctuation, converts text to lowercase, removes stopwords, and returns the cleaned text\n",
    "    in the form of a string\n",
    "    '''\n",
    "    text = re.sub(r'[^a-zA-Z\\s]', '', text, re.I|re.A)\n",
    "    text = text.lower()\n",
    "    text = text.split()\n",
    "    text = [word for word in text if word not in stop_words]\n",
    "    text = ' '.join(text)\n",
    "    return text\n",
    "\n",
    "train_data['text'] = train_data['text'].apply(preprocess_text_1)\n",
    "test_data['text'] = test_data['text'].apply(preprocess_text_1)\n"
   ]
  },
  {
   "cell_type": "markdown",
   "metadata": {},
   "source": [
    "next, we will convert text to numerical representations\n",
    "\n",
    "why?\n",
    "- most ML algorithms will be working with numerical data as input so the machine can understand the data and use it for the algorithm\n",
    "- this conversion is called feature extraction or vectorization\n",
    "\n",
    "why are we using TF-IDF below?\n",
    "- Term Frequency-Inverse Document Frequency is a popular method for converting text into numerical vectors. it assigns weights to each word based on how important or relevant it is in the corpus. words that appear frequently in a specific document (text review) but infrequently across the entire corpus are given higher weights, as they are more informative for that specific document.\n",
    "- TF-IDF is widely used because it captures the relative importance of words in a doc., which can be beneficial for tasks like sentiment analysis, where the presence of certain words can strongly indicate the sentiment.\n",
    "\n",
    "what are other models we could use, and would it be smart to test out using different methods?\n",
    "- i want to compare these different text vectorization methods\n",
    "    1. bag-of-words : simple method, counts the occurrences of each word in a document, representing it as a vector of word frequencies\n",
    "    2. word embeddings : method represents words as dense vectors that capture semantic and syntactic info, such as Word2Vec or GloVe embeddings.\n",
    "    3. n-gram models : instead of considering single words, n-grams capture sequences of n consecutive words, which can provide more context."
   ]
  },
  {
   "cell_type": "code",
   "execution_count": 5,
   "metadata": {},
   "outputs": [],
   "source": [
    "import sklearn\n",
    "from sklearn.feature_extraction.text import TfidfVectorizer\n",
    "\n",
    "'''this converts text into TF-IDF vectors, which are used as features for the model'''\n",
    "vectorizer = TfidfVectorizer()\n",
    "X_train = vectorizer.fit_transform(train_data['text'])\n",
    "X_test = vectorizer.transform(test_data['text'])\n",
    "y_train = train_data['label']\n",
    "y_test = test_data['label']"
   ]
  },
  {
   "cell_type": "markdown",
   "metadata": {},
   "source": [
    "# Validation Set\n",
    "we want to separate the data into a validation set to tune hyperparameters and evaluate model's performance during training. this validation set acts as an unbiased proxy for the test set, allowing you to tune the model's hyperparmaters (regularization strength, number of trees, etc.) and prevent overfitting to the training data."
   ]
  },
  {
   "cell_type": "code",
   "execution_count": 6,
   "metadata": {},
   "outputs": [],
   "source": [
    "# lets separate the training data into a validation set\n",
    "from sklearn.model_selection import train_test_split\n",
    "# we use random_state to ensure reproducibility - it controls the randomness of the split. 42 is a common value\n",
    "# you guarantee that the output of Run 1 will be equal to the output of Run 2, i.e. your split will be always the same\n",
    "X_train, X_val, y_train, y_val = train_test_split(X_train, y_train, test_size=0.2, random_state=42)"
   ]
  },
  {
   "cell_type": "markdown",
   "metadata": {},
   "source": [
    "# Visualizing the Preprocessed Data\n",
    "to get a better understanding of what it looks like before moving on"
   ]
  },
  {
   "cell_type": "code",
   "execution_count": 7,
   "metadata": {},
   "outputs": [
    {
     "name": "stdout",
     "output_type": "stream",
     "text": [
      "first 5 examples from training data\n",
      "                                                text  label\n",
      "0  dr goldberg offers everything look general pra...      4\n",
      "1  unfortunately frustration dr goldbergs patient...      1\n",
      "2  going dr goldberg years think one st patients ...      3\n",
      "3  got letter mail last week said dr goldberg mov...      3\n",
      "4  dont know dr goldberg like moving arizona let ...      0\n",
      "\n",
      "shape of training data: (520000, 790337)\n",
      "shape of validation data: (130000, 790337)\n",
      "shape of test data: (50000, 790337)\n",
      "\n",
      "lbel distribution in training data\n",
      "label\n",
      "4    130000\n",
      "1    130000\n",
      "3    130000\n",
      "0    130000\n",
      "2    130000\n",
      "Name: count, dtype: int64\n",
      "label distribution in test data\n",
      "label\n",
      "0    10000\n",
      "2    10000\n",
      "1    10000\n",
      "3    10000\n",
      "4    10000\n",
      "Name: count, dtype: int64\n",
      "\n",
      "example vectors from training data:\n",
      "  (0, 14481)\t0.3521445436384422\n",
      "  (0, 520172)\t0.22519277351182185\n",
      "  (0, 506118)\t0.21425344076291708\n",
      "  (0, 438206)\t0.17074109239568955\n",
      "  (0, 747013)\t0.1685015538587805\n",
      "  (0, 358168)\t0.3609007648115094\n",
      "  (0, 54517)\t0.15996351199765999\n",
      "  (0, 499107)\t0.24931621932952291\n",
      "  (0, 564629)\t0.20606683799292955\n",
      "  (0, 232179)\t0.13532308249296385\n",
      "  (0, 134554)\t0.1274621735456892\n",
      "  (0, 83958)\t0.13669152720899022\n",
      "  (0, 566327)\t0.14883653891337964\n",
      "  (0, 523862)\t0.12079913101974117\n",
      "  (0, 255623)\t0.15039573303910733\n",
      "  (0, 427848)\t0.15942199875505386\n",
      "  (0, 58671)\t0.12997296975718328\n",
      "  (0, 785180)\t0.16777062855505187\n",
      "  (0, 50920)\t0.31778265816435697\n",
      "  (0, 386689)\t0.09970321479930827\n",
      "  (0, 722438)\t0.0998082799611416\n",
      "  (0, 358477)\t0.14440773173282168\n",
      "  (0, 521051)\t0.18638533245425673\n",
      "  (0, 978)\t0.13730799308412822\n",
      "  (0, 393190)\t0.0982647927295621\n",
      "  :\t:\n",
      "  (1, 317442)\t0.36643984415494835\n",
      "  (1, 735458)\t0.3593599260456706\n",
      "  (1, 761406)\t0.4980767539722179\n",
      "  (1, 250076)\t0.14072603282361032\n",
      "  (1, 611112)\t0.1598928104637537\n",
      "  (1, 736419)\t0.2032825854184853\n",
      "  (1, 598354)\t0.22445479778181895\n",
      "  (1, 100525)\t0.24385353276577584\n",
      "  (1, 428924)\t0.20223050543430227\n",
      "  (1, 285538)\t0.16252405073164186\n",
      "  (2, 248075)\t0.48218829394591156\n",
      "  (2, 248213)\t0.406957637271199\n",
      "  (2, 514055)\t0.21957807284819386\n",
      "  (2, 774493)\t0.3699682185417808\n",
      "  (2, 585805)\t0.2346171349005564\n",
      "  (2, 776103)\t0.2283255036926025\n",
      "  (2, 379927)\t0.15585641902122133\n",
      "  (2, 228920)\t0.2354610532154679\n",
      "  (2, 522364)\t0.1036822035046063\n",
      "  (2, 45056)\t0.12577990572058886\n",
      "  (2, 220448)\t0.17611674005990063\n",
      "  (2, 487184)\t0.23519200442031307\n",
      "  (2, 277797)\t0.1618869280575599\n",
      "  (2, 516540)\t0.24761394297695696\n",
      "  (2, 226350)\t0.17162470676698882\n"
     ]
    },
    {
     "data": {
      "text/plain": [
       "'\\nprint the first 3 examples. each sample is represented as a vector with columns.\\nX_train is the vectorized text data, each row represents on text sample (review) and each column represents a feature (word in the TF-IDF vector)\\n[:3] is the slicing which selects the first 3 samples\\nthe multiple lines for each sample is that the vectors are high dimension and python prints them on on multiple lines for readability\\n'"
      ]
     },
     "execution_count": 7,
     "metadata": {},
     "output_type": "execute_result"
    }
   ],
   "source": [
    "print('first 5 examples from training data')\n",
    "#print(X_train[:5])\n",
    "print(train_data[['text', 'label']].head())\n",
    "print()\n",
    "print(f'shape of training data: {X_train.shape}')\n",
    "print(f'shape of validation data: {X_val.shape}')\n",
    "print(f'shape of test data: {X_test.shape}')\n",
    "print()\n",
    "print('lbel distribution in training data')\n",
    "print(train_data['label'].value_counts())\n",
    "print('label distribution in test data')\n",
    "print(test_data['label'].value_counts())\n",
    "print()\n",
    "print('example vectors from training data:')\n",
    "print(X_train[:3])\n",
    "'''\n",
    "print the first 3 examples. each sample is represented as a vector with columns.\n",
    "X_train is the vectorized text data, each row represents on text sample (review) and each column represents a feature (word in the TF-IDF vector)\n",
    "[:3] is the slicing which selects the first 3 samples\n",
    "the multiple lines for each sample is that the vectors are high dimension and python prints them on on multiple lines for readability\n",
    "'''"
   ]
  },
  {
   "cell_type": "markdown",
   "metadata": {},
   "source": [
    "# Decision Tree Classifer"
   ]
  },
  {
   "cell_type": "code",
   "execution_count": 9,
   "metadata": {},
   "outputs": [],
   "source": [
    "from sklearn.tree import DecisionTreeClassifier\n",
    "\n",
    "dt_model = DecisionTreeClassifier()\n",
    "dt_model.fit(X_train, y_train)"
   ]
  },
  {
   "cell_type": "markdown",
   "metadata": {},
   "source": [
    "# Evaluate Model Performance"
   ]
  },
  {
   "cell_type": "code",
   "execution_count": null,
   "metadata": {},
   "outputs": [
    {
     "name": "stdout",
     "output_type": "stream",
     "text": [
      "0.3887307692307692\n",
      "              precision    recall  f1-score   support\n",
      "\n",
      "           0       0.53      0.53      0.53     26100\n",
      "           1       0.31      0.31      0.31     25992\n",
      "           2       0.31      0.31      0.31     26130\n",
      "           3       0.32      0.32      0.32     26048\n",
      "           4       0.46      0.47      0.47     25730\n",
      "\n",
      "    accuracy                           0.39    130000\n",
      "   macro avg       0.39      0.39      0.39    130000\n",
      "weighted avg       0.39      0.39      0.39    130000\n",
      "\n"
     ]
    }
   ],
   "source": [
    "from sklearn.metrics import accuracy_score, classification_report\n",
    "\n",
    "predictions = dt_model.predict(X_val)\n",
    "print(accuracy_score(y_val, predictions))\n",
    "print(classification_report(y_val, predictions))"
   ]
  },
  {
   "cell_type": "markdown",
   "metadata": {},
   "source": [
    "# Results Analysis\n",
    "The performance shows similar results across each class, which means this is balanced and the model is not biased towards any class. This could mean, however, that the model can't really distinguish between the classes. The overall accuracy is about 38.87%.\n",
    "\n",
    "## Model Complexity\n",
    "Reasons for this could be model complexity.  If the tree is too complex, it could be overfitting. Pruning the tree would help here. To prune the tree we could limit the depth or set a minimum samples per leaf. If the tree is too simple, it's not capturing necessary patterns in data. To ensure more patterns are captured, we could increase the depth.\n",
    "\n",
    "## Feature Engineering\n",
    "We could try to use better features that could capture the sentiment more effectively:\n",
    "- N-grams : use bi-grams or tri-grams to capture context\n",
    "- Word Embeddings: use pre-trained embeddings like Word2Vec, GloVe, or BERT embeddings \n",
    "\n",
    "## Hyperparameter Tuning\n",
    "We can try using a systematic search for the best hyperparameters using grid search or random search \n",
    "- Grid Search : test randge of values for parameters: 'max_depth', 'min_samples_split', and 'min_samples_leaf'\n",
    "- Random Search : sample wider range of values. typically this is more efficient than grid search\n",
    "\n",
    "## Other Things To Try:\n",
    "- Remove stop words\n",
    "- use stemming or lemmatization, which reduce words to their root form\n",
    "    - use nltk.stem.WordNetLemmatizer\n",
    "- Instead of removing all characters except letters, include punctuation like '?' or '!' which can express sentiment\n",
    "- Tweak the parameters of the TF-IDF like 'ngram_range', 'max_df', 'min_df', and 'max_features'"
   ]
  },
  {
   "cell_type": "markdown",
   "metadata": {},
   "source": [
    "# Implementation of Decision Tree Take 2"
   ]
  },
  {
   "cell_type": "code",
   "execution_count": 2,
   "metadata": {},
   "outputs": [
    {
     "name": "stderr",
     "output_type": "stream",
     "text": [
      "[nltk_data] Downloading package wordnet to /Users/tay/nltk_data...\n",
      "[nltk_data]   Package wordnet is already up-to-date!\n"
     ]
    }
   ],
   "source": [
    "import nltk\n",
    "import re\n",
    "import pandas as pd\n",
    "from nltk.stem import WordNetLemmatizer\n",
    "\n",
    "nltk.download('wordnet')\n",
    "\n",
    "lemmatizer = WordNetLemmatizer()\n",
    "\n",
    "# reload original data\n",
    "# TODO: could read in once and every time I apply a preprocessing function, name the variable after which preprocessing function was applied\n",
    "# that way I can keep track of the data at each stage of preprocessing and just load the original data once\n",
    "train_data = pd.read_csv('train.csv')\n",
    "test_data = pd.read_csv('test.csv')\n",
    "\n",
    "def preprocess_text_2(text):\n",
    "    '''\n",
    "    this function removes all non-alphabetic characters and leaves only words. \n",
    "    it then coverts all text to lowercase for consistency and splits the text into words.\n",
    "    it then lemmatizes the words to their root form.\n",
    "    then it joins the words back together into a single string and returns the cleaned text\n",
    "    '''\n",
    "    text = re.sub(r'[\\d\\W]+', ' ', text)\n",
    "    text = text.lower().split()\n",
    "    text = [lemmatizer.lemmatize(word) for word in text]\n",
    "\n",
    "    return ' '.join(text)\n",
    "\n",
    "train_data['text'] = train_data['text'].apply(preprocess_text_2)\n",
    "test_data['text'] = test_data['text'].apply(preprocess_text_2)"
   ]
  },
  {
   "cell_type": "code",
   "execution_count": 5,
   "metadata": {},
   "outputs": [
    {
     "name": "stdout",
     "output_type": "stream",
     "text": [
      "Starting TF-IDF Vectorization...\n",
      "Completed TF-IDF Vectorization.\n",
      "Starting Dimensionality Reduction with IncrementalPCA...\n",
      "Explained variance ratio: 0.18481176299725932\n",
      "Completed Dimensionality Reduction.\n",
      "Splitting the data into training and validation sets...\n",
      "Completed splitting.\n",
      "Starting Hyperparameter Tuning with GridSearchCV...\n",
      "Completed Hyperparameter Tuning.\n",
      "Evaluating the best model...\n",
      "Accuracy: 0.41823846153846156\n",
      "              precision    recall  f1-score   support\n",
      "\n",
      "           0       0.52      0.61      0.56     26000\n",
      "           1       0.34      0.31      0.33     26000\n",
      "           2       0.35      0.36      0.35     26000\n",
      "           3       0.35      0.30      0.32     26000\n",
      "           4       0.49      0.51      0.50     26000\n",
      "\n",
      "    accuracy                           0.42    130000\n",
      "   macro avg       0.41      0.42      0.41    130000\n",
      "weighted avg       0.41      0.42      0.41    130000\n",
      "\n",
      "Refitting the best model on the entire dataset...\n",
      "Completed refitting.\n"
     ]
    }
   ],
   "source": [
    "from sklearn.feature_extraction.text import TfidfVectorizer\n",
    "from sklearn.model_selection import train_test_split, GridSearchCV\n",
    "from sklearn.tree import DecisionTreeClassifier\n",
    "from sklearn.metrics import accuracy_score, classification_report\n",
    "\n",
    "# TF-IDF Vectorization with bigrams and feature selection\n",
    "# TF-IDF takes text data and converts it into a high dimensional vector representation\n",
    "# set up to use uni-grams and bi-grams, remove words that appear in more than 95% of the documents, \n",
    "#    remove words that appear in less than 5 documents, and limit the number of features to 5000\n",
    "# these 5000 dimensions are the \"top\" features as determined by the TF-IDF vectorizer\n",
    "print(\"Starting TF-IDF Vectorization...\")\n",
    "vectorizer = TfidfVectorizer(ngram_range=(1, 2), max_df=0.95, min_df=5, max_features=5000)\n",
    "X_train = vectorizer.fit_transform(train_data['text'])\n",
    "X_test = vectorizer.transform(test_data['text'])\n",
    "print(\"Completed TF-IDF Vectorization.\")\n",
    "\n",
    "# Dimensionality Reduction\n",
    "# do this reduce the feature space which can help the model generalize better. this is making the model less complex\n",
    "# so we are further reducing the dimnesionality of the data from 5000 to 1000 while trying to preserve as much information as possible\n",
    "from sklearn.decomposition import IncrementalPCA\n",
    "\n",
    "print(\"Starting Dimensionality Reduction with IncrementalPCA...\")\n",
    "n_batches = 100  # or another number that fits your memory constraints\n",
    "ipca = IncrementalPCA(n_components=100, batch_size=n_batches)\n",
    "X_train_ipca = ipca.fit_transform(X_train)\n",
    "print(f\"Explained variance ratio: {ipca.explained_variance_ratio_.sum()}\")\n",
    "X_test_ipca = ipca.transform(X_test)\n",
    "print(\"Completed Dimensionality Reduction.\")\n",
    "\n",
    "# Splitting the data into training and validation sets with stratification\n",
    "print(\"Splitting the data into training and validation sets...\")\n",
    "X_train_ipca, X_val_ipca, y_train, y_val = train_test_split(X_train_ipca, train_data['label'], test_size=0.2, random_state=42, stratify=train_data['label'])\n",
    "print(\"Completed splitting.\")\n",
    "\n",
    "# Hyperparameter tuning\n",
    "print(\"Starting Hyperparameter Tuning with GridSearchCV...\")\n",
    "dt_params = {\n",
    "    'max_depth': [10, 20, None],\n",
    "    'min_samples_split': [2, 10],\n",
    "    'min_samples_leaf': [1, 4],\n",
    "    'criterion': ['gini', 'entropy']\n",
    "}\n",
    "dt = DecisionTreeClassifier(random_state=42)\n",
    "clf = GridSearchCV(dt, dt_params, cv=3, scoring='accuracy', n_jobs=7)\n",
    "clf.fit(X_train_ipca, y_train)\n",
    "print(\"Completed Hyperparameter Tuning.\")\n",
    "\n",
    "print(\"Evaluating the best model...\")\n",
    "best_dt_model = clf.best_estimator_\n",
    "predictions = best_dt_model.predict(X_val_ipca)\n",
    "print(f\"Accuracy: {accuracy_score(y_val, predictions)}\")\n",
    "print(classification_report(y_val, predictions))\n",
    "\n",
    "print(\"Refitting the best model on the entire dataset...\")\n",
    "best_dt_model.fit(X_train_ipca, y_train)\n",
    "print(\"Completed refitting.\")"
   ]
  }
 ],
 "metadata": {
  "kernelspec": {
   "display_name": "Python 3",
   "language": "python",
   "name": "python3"
  },
  "language_info": {
   "codemirror_mode": {
    "name": "ipython",
    "version": 3
   },
   "file_extension": ".py",
   "mimetype": "text/x-python",
   "name": "python",
   "nbconvert_exporter": "python",
   "pygments_lexer": "ipython3",
   "version": "3.undefined.undefined"
  }
 },
 "nbformat": 4,
 "nbformat_minor": 2
}
